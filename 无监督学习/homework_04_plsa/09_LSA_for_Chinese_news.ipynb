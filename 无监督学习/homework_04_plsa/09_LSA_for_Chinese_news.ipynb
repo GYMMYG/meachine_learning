{
 "cells": [
  {
   "cell_type": "code",
   "execution_count": 23,
   "metadata": {},
   "outputs": [],
   "source": [
    "import requests\n",
    "from bs4 import BeautifulSoup\n",
    "import jieba\n",
    "import jieba.analyse\n",
    "from sklearn.decomposition import TruncatedSVD\n",
    "from sklearn.feature_extraction.text import TfidfVectorizer\n",
    "from sklearn import metrics\n",
    "from sklearn.cluster import KMeans\n",
    "from time import time\n",
    "import numpy as np"
   ]
  },
  {
   "cell_type": "code",
   "execution_count": 24,
   "metadata": {},
   "outputs": [
    {
     "name": "stdout",
     "output_type": "stream",
     "text": [
      "../info/1033/129690.htm\n"
     ]
    }
   ],
   "source": [
    "# 获取交大新闻网主页新闻的链接列表\n",
    "news_url_list = []\n",
    "\n",
    "nav_page = 1654\n",
    "while len(news_url_list)<100:\n",
    "    nav_url = \"http://news.xjtu.edu.cn/zyxw/\"\n",
    "    nav_url = nav_url + str(nav_page) + \".htm\"\n",
    "    r = requests.get(nav_url)\n",
    "    if r.status_code != 200:\n",
    "        raise Exception()\n",
    "    r.encoding='utf-8'\n",
    "\n",
    "    soup = BeautifulSoup(r.text, \"html.parser\")\n",
    "    for node in soup.find_all(\"a\"):\n",
    "        if node.has_attr('href') and not node.attrs['href'].find(u'../info/')==-1:\n",
    "            news_url_list.append(node.attrs['href'])\n",
    "            # print(node.attrs['href'])\n",
    "    news_url_list = list(set(news_url_list))\n",
    "    nav_page = nav_page - 1\n",
    "\n",
    "print(news_url_list[0])"
   ]
  },
  {
   "cell_type": "code",
   "execution_count": 25,
   "metadata": {},
   "outputs": [
    {
     "name": "stdout",
     "output_type": "stream",
     "text": [
      "春到人间草木知，西安交大校园内杨柳依依、梅花浅笑，迎接着2021年春季学期返校的学子们。根据教育部、陕西省及西安市疫情防控要求，学校按照“分期分批、有序返校”的原则，安排国（境）内学生2月27日—28日返校注册。学校各部门齐上阵，安全隐患想在前，学生返校前需进行申请，得到批准后凭借西安市“一码通”绿码及其他相关报告予以返校；准备工作干在前，学校科学部署、全面联动，为学生返校复学保驾护航。保卫处严阵以待，把好安全第一关保卫部（处）工作人员提前设置好返校学生入校通道，按照流程一丝不苟地做好查验证件、核查西安市“一码通”、测量体温等准备工作。在校园安防指挥中心，工作人员通过“智安交大”安防平台关注各校门口的情况，第一时间调配力量进行疏导或者增援。在兴庆校区的各校门口，红毯、一米线、观察区和各类温馨提示牌设置齐全醒目，着装整齐的校卫队员们，一丝不苟地为返校学子核查证件、测量体温，并提醒同学们提前扫描西安市“一码通”，以便快速进入学校。在雁塔校区，保卫处工作人员设置了学生返校的专用通道，安排校卫队员在扫码处提醒返校同学们提前扫码。在创新港，校卫队员们认真做好门禁管理工作的同时，还充分利用空余时间和港区内巡逻用车辆，主动为到宿舍路程较远的同学提供行李运送服务，在做好安全管理的同时，为返校的同学们提供贴心的服务保障。后勤人温暖护航，提供坚实服务保障在雁塔校区，能源服务部对校园水电暖设施设备进行全面检修，全力做好开学前水电暖供应保障。根据天气动态调节供暖温度，对二次供水设施设备进行重点检查，按要求做好水质监测、消毒、化验等工作，确保师生饮用水安全。物业服务部对校园进行全面清扫保洁、消杀，对教室设施进行全面检修，确保教学工作顺利进行。在创新港：综合管理服务中心组织人员做好能源、物业、餐饮等各方面筹备工作，为师生们提供良好的后勤保障服务。保洁人员对教室、餐厅等公共区域进行打扫、消杀，为返校学生提供舒适的学习生活环境。在学生返校前，创新港后勤人员就在进行全面防疫消杀工作，保证学子安全入校。入校口、公寓口学生进行测温登记，筑牢防疫安全网。后勤保障部还安排小巴车帮学生搬运行李，服务工作暖心周到。为做好医疗保障，校医院提前谋划，与学工、研工等部门联合，制定《2021年春季学期学生返校开学疫情防控方案》《春季开学疫情防控应急处置预案》；加强预检分诊及医疗服务，门急诊24小时值班；做好防疫物资储备，确保学校防疫物资到位，为校园防疫消毒提供保障。研工系统全面部署，助力学子安全返校为保障学子开学返校报到注册的顺利进行，研工部面向假期留校学生及家在西安本地学生招募志愿者，协助门口保卫进行西安市“一码通”绿码核验、体温测量和校园卡查验等工作。医学部药学院做好开学各项工作，教学科研逐步走向正轨。生命学院制作欢迎学生返校大屏，营造温馨的返校氛围，同时提醒同学们在返校期间提高安全意识，遵守防疫要求，安心返校。学工系统贴心温暖，共创安全健康新环境钱学森书院辅导员深入全体返校学生宿舍进行全面检查，号召学生开展爱国卫生运动，督促同学们新年再接再厉，学习生活两不误。返校前夕，仲英书院号召学生志愿者与教师一同打扫书院公共区域卫生，整理书院周边、天井内自行车，以温馨整洁的环境迎接学生返校。启德书院教工提前上岗，清扫书院公共区域卫生，安排部署新学期工作，走访学生宿舍，迎接学生顺利有序返校。励志书院全体教师清洁打扫学生功能室，设计喷绘，营建温馨环境，欢迎学生归来，各年级辅导员走访学生宿舍，关怀返校学生。崇实书院发布倡议，组织学生进行开学大扫除，全面清扫、消毒公共空间和学生宿舍，养成良好的卫生习惯，创造清洁环境，以崭新面貌迎接新学期。从3月1日起，交大学子们将以线上线下相结合方式正式上课。为保证正常教育教学，教务处提前设置好报到注册系统，号召各学院专人负责统一办理注册，还在学生事务大厅开设了新学期学生咨询业务专项窗口，解答学生报到注册、修课选课、考试评价等方面的问题和关切。\n"
     ]
    }
   ],
   "source": [
    "# 获取新闻内容\n",
    "news_list = []\n",
    "for news_url in news_url_list:\n",
    "    news_url = news_url.replace('../', 'http://news.xjtu.edu.cn/')\n",
    "    # print(news_url)\n",
    "    \n",
    "    r = requests.get(news_url)\n",
    "    if r.status_code != 200:\n",
    "        raise Exception()\n",
    "    r.encoding='utf-8'\n",
    "\n",
    "    soup = BeautifulSoup(r.text, \"html.parser\")\n",
    "    text = str()\n",
    "    for node in soup.find_all(\"p\"):\n",
    "        if node.get_text().find(u'上一条')==-1 and node.get_text().find(u'下一条')==-1 and node.get_text().find(u'关闭')==-1 and node.get_text().find(u'版权所有')==-1 and node.get_text().find(u'来源链接')==-1 and len(node.get_text().strip(' '))>0:\n",
    "            text = text + node.get_text().strip(' ')\n",
    "    news_list.append(text) \n",
    "    # print(text)\n",
    "\n",
    "print(news_list[0])"
   ]
  },
  {
   "cell_type": "code",
   "execution_count": 26,
   "metadata": {},
   "outputs": [],
   "source": [
    "# 导入停用词\n",
    "stopwords = [line.strip() for line in open('./data/stop_words.txt',encoding='UTF-8').readlines()]\n",
    "# print(stopwords)"
   ]
  },
  {
   "cell_type": "code",
   "execution_count": 27,
   "metadata": {},
   "outputs": [
    {
     "name": "stdout",
     "output_type": "stream",
     "text": [
      "春到 人间 草木 知 西安交大 校园内 杨柳依依 梅花 浅笑 迎接 2021 春季 学期 返校 学子 教育部 陕西省 西安市 疫情 防控 要求 学校 有序 返校 原则 安排 国 境 学生 月 27 — 28 返校 注册 学校 部门 上阵 安全隐患 想 前 学生 返校 前 需 进行 申请 得到 批准 后 西安市 一码 通 绿码 他 相关 报告 予以 返校 准备 工作 干 前 学校 科学 部署 全面 联动 学生 返校 复学 保驾护航 保卫处 严阵以待 把 好 安全 第一关 保卫部 处 工作人员 提前 设置 好 返校 学生 入校 通道 按照 流程 一丝不苟 做好 查验 证件 核查 西安市 一码 通 测量体温 准备 工作 校园 安防 指挥 中心 工作人员 智安 交大 安防 平台 关注 各校 门口 情况 第一 时间 调配 力量 进行 疏导 增援 兴庆 校区 各校 门口 红毯 一 米线 观察 区 各类 温馨 提示牌 设置 齐全 醒目 着装 整齐 校卫 队员 一丝不苟 地为 返校 学子 核查 证件 测量体温 并 提醒 同学 提前 扫描 西安市 “ 一码 通 快速 进入 学校 雁塔 校区 保卫处 工作人员 设置 学生 返校 专用 通道 安排 校卫 队员 扫码 处 提醒 返校 同学 提前 扫码 在 创新 港 校卫 队员 认真 做好 门禁 管理工作 同时 充分利用 空余 时间 港区 巡逻 车辆 主动 宿舍 路程 较远 同学 提供 行李 运送 服务 在 做好 安全 管理 同时 为 返校 同学 提供 贴心 服务 保障 后勤 人 温暖 护航 提供 坚实 服务 保障 在 雁塔 校区 能源 服务部 校园 水电 暖 设施 设备 进行 全面 检修 全力 做好 开学 前 水电 暖 供应 保障 根据 天气 动态 调节 供暖 温度 二次 供水 设施 设备 进行 重点 检查 按 要求 做好 水质 监测 消毒 化验 工作 确保 师生 饮用水 安全 物业 服务部 校园 进行 全面 清扫 保洁 消杀 对 教室 设施 进行 全面 检修 确保 教学 工作 顺利进行 在 创新 港 综合 管理 服务中心 组织 人员 做好 能源 物业 餐饮 方面 筹备工作 为 师生 提供 良好 后勤保障 服务 保洁 人员 对 教室 餐厅 公共 区域 进行 打扫 消杀 为 返校 学生 提供 舒适 学习 生活 环境 在 学生 返校 前 创新 港 后勤人员 在 进行 全面 防疫 消杀 工作 保证 学子 安全 入校 入校 口 公寓 口 学生 进行 测温 登记 筑牢 防疫 安全网 后勤保障 部 还 安排 小巴 车帮 学生 搬运 行李 服务 工作 暖心 周到 为 做好 医疗保障 校医院 提前 谋划 学工 研工 部门 联合 制定 2021 春季 学期 学生 返校 开学 疫情 防控 方案 《 春季 开学 疫情 防控 应急 处置 预案 加强 预检分 诊及 医疗 服务 门急诊 24 小时 值班 ； 做好 防疫 物资 储备 确保 学校 防疫 物资 到位 为 校园 防疫 消毒 提供 保障 研工 系统 全面 部署 助力 学子 安全 返校 为 保障 学子 开学 返校 报 注册 顺利进行 研 工部 面向 假期 留校 学生 及家 在 西安 本地 学生 招募 志愿者 协助 门口 保卫 进行 西安市 “ 一码 通 绿码 核验 体温 测量 校园卡 查验 工作 医学部 药学院 做好 开学 各项 工作 教学科研 逐步 走向 正轨 生命 学院 制作 欢迎 学生 返校 大屏 营造 温馨 返校 氛围 同时 提醒 同学 在 返校 期间 提高 安全意识 遵守 防疫 要求 安心 返校 学工 系统 贴心 温暖 共创 安全 健康 新 环境 钱学森 书院 辅导员 深入 全体 返校 学生宿舍 进行 全面 检查 号召 学生 开展 爱国卫生 运动 督促 同学 新年 再接再厉 学习 生活 两不误 返校 前夕 仲英 书院 号召 学生 志愿者 与 教师 一同 打扫 书院 公共 区域 卫生 整理 书院 周边 天井 内 自行车 以 温馨 整洁 环境 迎接 学生 返校 启德 书院 教工 提前 上岗 清扫 书院 公共 区域 卫生 安排 部署 新学期 工作 走访 学生宿舍 迎接 学生 顺利 有序 返校 励志书 院 全体 教师 清洁 打扫 学生 功能 室 设计 喷绘 营建 温馨 环境 欢迎 学生 归来 各年级 辅导员 走访 学生宿舍 关怀 返校 学生 崇实 书院 发布 倡议 组织 学生 进行 开学 大扫除 全面 清扫 消毒 公共 空间 学生宿舍 养成 良好 卫生习惯 创造 清洁 环境 以 崭新面貌 迎接 新学期 从 月 日起 交大 学子 将 以线 上线 下 相结合 方式 正式 上课 为 保证 正常 教育 教学 教务处 提前 设置 好报 注册 系统 号召 各 学院 专人 负责 统一 办理 注册 ， 还 在 学生 事务 大厅 开设 新学期 学生 咨询 业务 专项 窗口 ， 解答 学生 报 到 注册 、 修课 选课 、 考试 评价 方面 的 问题 关切 。\n"
     ]
    }
   ],
   "source": [
    "# 使用jieba分词并去除停用词\n",
    "seg_news_list = []\n",
    "for news in news_list:\n",
    "    seg_news = list(jieba.cut(news))\n",
    "    # print('/'.join(seg_news))\n",
    "    for word in seg_news:\n",
    "        if word in stopwords:\n",
    "            seg_news.remove(word)\n",
    "    seg_news_list.append(' '.join(seg_news))\n",
    "print(seg_news_list[0])"
   ]
  },
  {
   "cell_type": "code",
   "execution_count": 28,
   "metadata": {},
   "outputs": [
    {
     "name": "stdout",
     "output_type": "stream",
     "text": [
      "n_samples: 105, n_features: 4850\n"
     ]
    }
   ],
   "source": [
    "vectorizer = TfidfVectorizer(max_df=0.5, max_features=10000, min_df=2)\n",
    "X = vectorizer.fit_transform(seg_news_list)\n",
    "print(\"n_samples: %d, n_features: %d\" % X.shape)"
   ]
  },
  {
   "cell_type": "code",
   "execution_count": 29,
   "metadata": {},
   "outputs": [
    {
     "name": "stdout",
     "output_type": "stream",
     "text": [
      "返校 0.46635947712083337\n",
      "学生 0.2305312728768\n",
      "防疫 0.09968852019250002\n",
      "学子 0.09875325961239999\n",
      "做好 0.0958701357894\n",
      "书院 0.09417020706764999\n",
      "开学 0.09080396086369999\n",
      "学生宿舍 0.07969845001933333\n",
      "西安市 0.07746256221658332\n",
      "全面 0.07498704702066666\n",
      "进行 0.0745424959004\n",
      "同学 0.0720611559345\n",
      "提前 0.0633799640525\n",
      "工作 0.06304109013525\n",
      "注册 0.06076107007341667\n",
      "新学期 0.06054459091350001\n",
      "校卫 0.059773837514499994\n",
      "消杀 0.059773837514499994\n",
      "入校 0.058517265373000005\n",
      "温馨 0.058088612307600006\n"
     ]
    }
   ],
   "source": [
    "# 使用jieba自带的功能提取关键词和权值\n",
    "for x, w in jieba.analyse.extract_tags(seg_news_list[0], topK = 20, withWeight = True):\n",
    "    print('%s %s' % (x, w))"
   ]
  },
  {
   "cell_type": "code",
   "execution_count": 30,
   "metadata": {},
   "outputs": [
    {
     "name": "stdout",
     "output_type": "stream",
     "text": [
      "Performing dimensionality reduction using SVD......\n",
      "Explained variance of the SVD step: 82%\n"
     ]
    }
   ],
   "source": [
    "print(\"Performing dimensionality reduction using SVD......\")\n",
    "svd = TruncatedSVD(n_components = 70)\n",
    "X = svd.fit_transform(X)\n",
    "\n",
    "explained_variance = svd.explained_variance_ratio_.sum()\n",
    "print(\"Explained variance of the SVD step: {}%\".format(\n",
    "        int(explained_variance * 100)))"
   ]
  },
  {
   "cell_type": "code",
   "execution_count": 31,
   "metadata": {},
   "outputs": [
    {
     "name": "stdout",
     "output_type": "stream",
     "text": [
      "(105, 70)\n"
     ]
    }
   ],
   "source": [
    "print(X.shape)"
   ]
  },
  {
   "cell_type": "code",
   "execution_count": 32,
   "metadata": {},
   "outputs": [
    {
     "name": "stdout",
     "output_type": "stream",
     "text": [
      "Do clustering......\n",
      "Clustering sparse data with KMeans(algorithm='auto', copy_x=True, init='k-means++', max_iter=100,\n",
      "       n_clusters=5, n_init=1, n_jobs=None, precompute_distances='auto',\n",
      "       random_state=None, tol=0.0001, verbose=0)\n"
     ]
    },
    {
     "data": {
      "text/plain": [
       "KMeans(algorithm='auto', copy_x=True, init='k-means++', max_iter=100,\n",
       "       n_clusters=5, n_init=1, n_jobs=None, precompute_distances='auto',\n",
       "       random_state=None, tol=0.0001, verbose=0)"
      ]
     },
     "execution_count": 32,
     "metadata": {},
     "output_type": "execute_result"
    }
   ],
   "source": [
    "print(\"Do clustering......\")\n",
    "n_cluster = 5\n",
    "km = KMeans(n_clusters=n_cluster, init='k-means++', max_iter=100, n_init=1)\n",
    "print(\"Clustering sparse data with %s\" % km)\n",
    "km.fit(X)"
   ]
  },
  {
   "cell_type": "code",
   "execution_count": 33,
   "metadata": {},
   "outputs": [
    {
     "name": "stdout",
     "output_type": "stream",
     "text": [
      "Top terms per cluster:\n",
      "Cluster 0: 党史 教育 学习 会议 党员 军号 历史 群众 习近平 古田\n",
      "Cluster 1: 学生 同学 图书馆 返校 我们 开学 生活 防控 疫情 学子\n",
      "Cluster 2: 文化 文明 学生 西迁 精神文明 育人 教育 书院 军事 思想\n",
      "Cluster 3: 人群 dna 遗传 研究 东亚地区 考古 遗址 农业 基因组学 南岛\n",
      "Cluster 4: 科技 合作 表示 团队 西安交大 科研 西部 交大 研究 关键词\n"
     ]
    }
   ],
   "source": [
    "print(\"Top terms per cluster:\")\n",
    "original_space_centroids = svd.inverse_transform(km.cluster_centers_)\n",
    "order_centroids = original_space_centroids.argsort()[:, ::-1]\n",
    "terms = vectorizer.get_feature_names()\n",
    "for i in range(n_cluster):\n",
    "    print(\"Cluster %d:\" % i, end='')\n",
    "    for ind in order_centroids[i, :10]:\n",
    "        print(' %s' % terms[ind], end='')\n",
    "    print()"
   ]
  },
  {
   "cell_type": "code",
   "execution_count": null,
   "metadata": {},
   "outputs": [],
   "source": []
  }
 ],
 "metadata": {
  "kernelspec": {
   "display_name": "Python 3",
   "language": "python",
   "name": "python3"
  },
  "language_info": {
   "codemirror_mode": {
    "name": "ipython",
    "version": 3
   },
   "file_extension": ".py",
   "mimetype": "text/x-python",
   "name": "python",
   "nbconvert_exporter": "python",
   "pygments_lexer": "ipython3",
   "version": "3.7.6"
  }
 },
 "nbformat": 4,
 "nbformat_minor": 4
}
